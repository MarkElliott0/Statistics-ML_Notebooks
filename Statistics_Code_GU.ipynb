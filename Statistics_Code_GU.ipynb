{
 "cells": [
  {
   "cell_type": "code",
   "execution_count": 1,
   "id": "c9bb24d3",
   "metadata": {},
   "outputs": [],
   "source": [
    "##Code for the statistics module in Python for MSc in Data Science\n",
    "##Requires the csv's titanic.csv and munichrent.csv"
   ]
  },
  {
   "cell_type": "code",
   "execution_count": 2,
   "id": "f5fbd574",
   "metadata": {},
   "outputs": [],
   "source": [
    "#Scipy\n",
    "from scipy import stats"
   ]
  },
  {
   "cell_type": "code",
   "execution_count": 4,
   "id": "45f1bc46",
   "metadata": {},
   "outputs": [],
   "source": [
    "#Create an object representing the N (0,1) distribution using the below\n",
    "n1 = stats.norm(0,1)"
   ]
  },
  {
   "cell_type": "code",
   "execution_count": 5,
   "id": "a6dcb5de",
   "metadata": {},
   "outputs": [
    {
     "name": "stdout",
     "output_type": "stream",
     "text": [
      "0.5\n"
     ]
    }
   ],
   "source": [
    "#Evaluate the cdf at 0 using \n",
    "print(n1.cdf(0))"
   ]
  },
  {
   "cell_type": "code",
   "execution_count": 6,
   "id": "78b3c889",
   "metadata": {},
   "outputs": [
    {
     "data": {
      "text/plain": [
       "0.5"
      ]
     },
     "execution_count": 6,
     "metadata": {},
     "output_type": "execute_result"
    }
   ],
   "source": [
    "##You can also use the below \n",
    "stats.norm.cdf(0, loc=0, scale=1)"
   ]
  },
  {
   "cell_type": "code",
   "execution_count": 7,
   "id": "995edc67",
   "metadata": {},
   "outputs": [],
   "source": [
    "##Example 1: focus on exponential distribution \n",
    "from scipy import stats\n",
    "theta = 4 \n",
    "expo4 = stats.expon(scale=1/theta)"
   ]
  },
  {
   "cell_type": "code",
   "execution_count": 11,
   "id": "74b8c2f1",
   "metadata": {},
   "outputs": [
    {
     "data": {
      "image/png": "[encoded data removed]",
      "text/plain": [
       "<Figure size 432x288 with 1 Axes>"
      ]
     },
     "metadata": {
      "needs_background": "light"
     },
     "output_type": "display_data"
    }
   ],
   "source": [
    "#Create a plot of the c.d.f using \n",
    "import numpy as np \n",
    "import matplotlib.pyplot as plt \n",
    "x = np.linspace(0, 10, 1000)\n",
    "plt.plot(x, expo4.cdf(x))\n",
    "plt.title(\"CDF of the Expo(4) distribution\")\n",
    "plt.show()"
   ]
  },
  {
   "cell_type": "code",
   "execution_count": 12,
   "id": "ac51e7fa",
   "metadata": {},
   "outputs": [
    {
     "name": "stdout",
     "output_type": "stream",
     "text": [
      "0.2581239453779659\n"
     ]
    }
   ],
   "source": [
    "##Draw a sample size of 1,000 from this distribution, check the mean of the distribution\n",
    "x = expo4.rvs(size=1000)\n",
    "print(x.mean())"
   ]
  },
  {
   "cell_type": "code",
   "execution_count": 13,
   "id": "bf0d25ce",
   "metadata": {},
   "outputs": [
    {
     "name": "stdout",
     "output_type": "stream",
     "text": [
      "(0.0001535792564474748, 0.2579703661215184)\n"
     ]
    }
   ],
   "source": [
    "##Using the fit method, find the maximum likelihood estimate of the parameter(s) using the sample. \n",
    "##The estimate of the scale parameter should be similar to the scale parameter used to simulate the data\n",
    "print(stats.expon.fit(x))"
   ]
  },
  {
   "cell_type": "code",
   "execution_count": 15,
   "id": "02fde986",
   "metadata": {},
   "outputs": [],
   "source": [
    "##Defining your own distribution in SciPy\n",
    "from scipy import stats \n",
    "class toydist_gen(stats.rv_continuous):\n",
    "    def _cdf(self, x):\n",
    "        return np.where(x <0, 0, np.where(x<1, 3*x**2-2*x**3, 1))"
   ]
  },
  {
   "cell_type": "code",
   "execution_count": 16,
   "id": "caf54041",
   "metadata": {},
   "outputs": [],
   "source": [
    "##Translate this into a proper model class\n",
    "toydist = toydist_gen()"
   ]
  },
  {
   "cell_type": "code",
   "execution_count": 18,
   "id": "322150b6",
   "metadata": {},
   "outputs": [
    {
     "data": {
      "image/png": "[encoded data removed]",
      "text/plain": [
       "<Figure size 432x288 with 1 Axes>"
      ]
     },
     "metadata": {
      "needs_background": "light"
     },
     "output_type": "display_data"
    }
   ],
   "source": [
    "#Create visual of the probability density function (PDF)\n",
    "import numpy as np \n",
    "import matplotlib.pyplot as plt \n",
    "x = np.linspace(-0.5, 2.5, 1000)\n",
    "plt.plot(x, toydist().pdf(x))\n",
    "plt.title(\"PDF of the toy distribution\")\n",
    "plt.show()"
   ]
  },
  {
   "cell_type": "code",
   "execution_count": 19,
   "id": "f35bb9f9",
   "metadata": {},
   "outputs": [
    {
     "name": "stdout",
     "output_type": "stream",
     "text": [
      "0.49999999999999983\n"
     ]
    }
   ],
   "source": [
    "##Compute the mean of the above \n",
    "print(toydist.mean())"
   ]
  },
  {
   "cell_type": "code",
   "execution_count": 20,
   "id": "77f68b0a",
   "metadata": {},
   "outputs": [
    {
     "name": "stdout",
     "output_type": "stream",
     "text": [
      "0.04999999998859683\n"
     ]
    }
   ],
   "source": [
    "#Variance \n",
    "print(toydist.var())"
   ]
  },
  {
   "cell_type": "code",
   "execution_count": 22,
   "id": "67cbb64c",
   "metadata": {},
   "outputs": [
    {
     "name": "stdout",
     "output_type": "stream",
     "text": [
      "0.8041998943409082\n"
     ]
    }
   ],
   "source": [
    "##And the 90% quintile \n",
    "print(toydist.ppf(0.9))"
   ]
  },
  {
   "cell_type": "code",
   "execution_count": 23,
   "id": "deea0b70",
   "metadata": {},
   "outputs": [],
   "source": [
    "##Draw a random sample from toydist\n",
    "x = toydist.rvs(size=50)"
   ]
  },
  {
   "cell_type": "code",
   "execution_count": 24,
   "id": "f9f7efc1",
   "metadata": {},
   "outputs": [
    {
     "name": "stdout",
     "output_type": "stream",
     "text": [
      "(-0.03535849524545119, 1.0355319748475087)\n"
     ]
    }
   ],
   "source": [
    "##Estiomate a location and scale parameter from the sample using fit method\n",
    "print(toydist.fit(x))"
   ]
  },
  {
   "cell_type": "code",
   "execution_count": 25,
   "id": "4d814c19",
   "metadata": {},
   "outputs": [],
   "source": [
    "##Functions for statistical tests in SciPy\n",
    "##ttest_1samp: Compare mean of Gaussian(ish) sample to given value \n",
    "##ttest_ind: Compare means of two Gaussian(ish) samples\n",
    "##wilcoxon: Compare median of symmetric distribution to zero (nonparametric)\n",
    "##mannwhitneyu: Compare medians of two samples from symmetric distributions (nonparametric)\n",
    "##ks_2samp: compare distributions of two samples\n",
    "##chisquare: compare discrete distribution to given distribution \n",
    "##chi2_contingency: Check independence between two discrete variables"
   ]
  },
  {
   "cell_type": "code",
   "execution_count": 26,
   "id": "bbaad9a2",
   "metadata": {},
   "outputs": [],
   "source": [
    "##Titanic passengers t-test \n",
    "import pandas as pd \n",
    "titanic = pd.read_csv(\"titanic.csv\")"
   ]
  },
  {
   "cell_type": "code",
   "execution_count": 27,
   "id": "1b803904",
   "metadata": {},
   "outputs": [],
   "source": [
    "##drop instances with na's\n",
    "titanic = titanic.dropna()"
   ]
  },
  {
   "cell_type": "code",
   "execution_count": 28,
   "id": "e1bb3eb2",
   "metadata": {},
   "outputs": [
    {
     "name": "stdout",
     "output_type": "stream",
     "text": [
      "   survived                                             name     sex      age  \\\n",
      "0         1                    Allen, Miss. Elisabeth Walton  female  29.0000   \n",
      "1         1                   Allison, Master. Hudson Trevor    male   0.9167   \n",
      "2         0                     Allison, Miss. Helen Loraine  female   2.0000   \n",
      "3         0             Allison, Mr. Hudson Joshua Creighton    male  30.0000   \n",
      "4         0  Allison, Mrs. Hudson J C (Bessie Waldo Daniels)  female  25.0000   \n",
      "\n",
      "       fare pclass  \n",
      "0  211.3375  first  \n",
      "1  151.5500  first  \n",
      "2  151.5500  first  \n",
      "3  151.5500  first  \n",
      "4  151.5500  first  \n"
     ]
    }
   ],
   "source": [
    "print(titanic.head())"
   ]
  },
  {
   "cell_type": "code",
   "execution_count": 29,
   "id": "ea50f09b",
   "metadata": {},
   "outputs": [],
   "source": [
    "##In this example, we will look at whether the average of of those that survived is different to those\n",
    "##that didnt survive\n",
    "survived = titanic.query(\"survived==1\")[\"age\"]\n",
    "not_survived = titanic.query(\"survived==0\")[\"age\"]"
   ]
  },
  {
   "cell_type": "code",
   "execution_count": 30,
   "id": "f457884b",
   "metadata": {},
   "outputs": [
    {
     "name": "stdout",
     "output_type": "stream",
     "text": [
      "28.918228103044495\n",
      "30.49689854368932\n"
     ]
    }
   ],
   "source": [
    "##Print the means of survived/not survived\n",
    "import numpy as np\n",
    "print(np.mean(survived))\n",
    "print(np.mean(not_survived))"
   ]
  },
  {
   "cell_type": "code",
   "execution_count": 32,
   "id": "58cd881d",
   "metadata": {},
   "outputs": [
    {
     "data": {
      "image/png": "[encoded data removed]",
      "text/plain": [
       "<Figure size 360x360 with 1 Axes>"
      ]
     },
     "metadata": {
      "needs_background": "light"
     },
     "output_type": "display_data"
    }
   ],
   "source": [
    "##Create a violin plot of the distribution of ages for each group\n",
    "import seaborn as sns\n",
    "import matplotlib.pyplot as plt\n",
    "sns.catplot(x=\"survived\", y=\"age\", data=titanic, kind=\"violin\")\n",
    "plt.show()"
   ]
  },
  {
   "cell_type": "code",
   "execution_count": 33,
   "id": "0ed24f6f",
   "metadata": {},
   "outputs": [
    {
     "name": "stdout",
     "output_type": "stream",
     "text": [
      "Ttest_indResult(statistic=-1.7451383751048262, pvalue=0.08125528254927918)\n"
     ]
    }
   ],
   "source": [
    "##To determine whether the difference is significant, we can use the ttest function in SciPy\n",
    "from scipy import stats\n",
    "print(stats.ttest_ind(survived, not_survived))"
   ]
  },
  {
   "cell_type": "code",
   "execution_count": 34,
   "id": "d66b87fa",
   "metadata": {},
   "outputs": [
    {
     "data": {
      "image/png": "[encoded data removed]",
      "text/plain": [
       "<Figure size 360x360 with 1 Axes>"
      ]
     },
     "metadata": {
      "needs_background": "light"
     },
     "output_type": "display_data"
    }
   ],
   "source": [
    "##For the next exapmple, we will look at whether the passenger class had an impact on survival\n",
    "import seaborn as sns \n",
    "import matplotlib.pyplot as plt\n",
    "sns.catplot(x=\"pclass\", y=\"survived\", data=titanic, kind=\"bar\")\n",
    "plt.show()"
   ]
  },
  {
   "cell_type": "code",
   "execution_count": 35,
   "id": "02d7155f",
   "metadata": {},
   "outputs": [
    {
     "name": "stdout",
     "output_type": "stream",
     "text": [
      "pclass    first  second  third\n",
      "survived                      \n",
      "0           103     146    369\n",
      "1           181     115    131\n"
     ]
    }
   ],
   "source": [
    "##In order to carry out a statistical test for class, we need to create a cross tab\n",
    "c = pd.crosstab(titanic[\"survived\"], titanic[\"pclass\"])\n",
    "print(c)"
   ]
  },
  {
   "cell_type": "code",
   "execution_count": 36,
   "id": "4c45e060",
   "metadata": {},
   "outputs": [
    {
     "name": "stdout",
     "output_type": "stream",
     "text": [
      "(107.05897138923328, 5.6550928992503396e-24, 2, array([[167.95406699, 154.35215311, 295.6937799 ],\n",
      "       [116.04593301, 106.64784689, 204.3062201 ]]))\n"
     ]
    }
   ],
   "source": [
    "##We can now carry out a test of independance\n",
    "print(stats.chi2_contingency(c))"
   ]
  },
  {
   "cell_type": "code",
   "execution_count": 37,
   "id": "20893bdd",
   "metadata": {},
   "outputs": [],
   "source": [
    "##Kernal density estimation\n",
    "##Draw a random sample from the distribution using\n",
    "from scipy import stats\n",
    "chi6 = stats.chi2(df=6)\n",
    "x = chi6.rvs(size=100)"
   ]
  },
  {
   "cell_type": "code",
   "execution_count": 38,
   "id": "98619ca7",
   "metadata": {},
   "outputs": [],
   "source": [
    "##Estimate its density using\n",
    "kde = stats.gaussian_kde(x)"
   ]
  },
  {
   "cell_type": "code",
   "execution_count": 39,
   "id": "0d1422b2",
   "metadata": {},
   "outputs": [
    {
     "data": {
      "image/png": "[encoded data removed]",
      "text/plain": [
       "<Figure size 432x288 with 1 Axes>"
      ]
     },
     "metadata": {
      "needs_background": "light"
     },
     "output_type": "display_data"
    }
   ],
   "source": [
    "##kde is now a function that takes as input a point (or an array of points) at which to evaluate \n",
    "##the estimate of the density\n",
    "##Plot the kernal density estimate along with the true density with the below\n",
    "import numpy as np\n",
    "import matplotlib.pyplot as plt\n",
    "x0 = np.linspace(0, 20, 1000)\n",
    "plt.plot(x0, chi6.pdf(x0), label=\"True density\")\n",
    "plt.plot(x0, kde(x0), label=\"Kernal density estimate\")\n",
    "plt.legend()\n",
    "plt.show()"
   ]
  },
  {
   "cell_type": "code",
   "execution_count": 41,
   "id": "eb27c07e",
   "metadata": {},
   "outputs": [
    {
     "name": "stdout",
     "output_type": "stream",
     "text": [
      "(-1.7451383751048262, 0.08125528254927918, 1043.0)\n"
     ]
    }
   ],
   "source": [
    "##using statsmodel with titanic dataset to perform a t-test\n",
    "import pandas as pd\n",
    "import statsmodels.api as sm\n",
    "titanic = pd.read_csv(\"titanic.csv\")\n",
    "titanic = titanic.dropna()\n",
    "survived = titanic.query(\"survived==1\")[\"age\"]\n",
    "not_survived = titanic.query(\"survived==0\")[\"age\"]\n",
    "print(sm.stats.ttest_ind(survived, not_survived))"
   ]
  },
  {
   "cell_type": "code",
   "execution_count": 42,
   "id": "e564470c",
   "metadata": {},
   "outputs": [
    {
     "name": "stdout",
     "output_type": "stream",
     "text": [
      "         rent   rentsqm  area   yearc location      bath   kitchen cheating  \\\n",
      "0  109.948715  4.228797    26  1918.0     good  standard  standard       no   \n",
      "1  243.282043  8.688646    28  1918.0     good  standard  standard      yes   \n",
      "2  261.641022  8.721369    30  1918.0  average  standard  standard      yes   \n",
      "3  106.410255  3.547009    30  1918.0     good  standard  standard       no   \n",
      "4  133.384613  4.446154    30  1918.0     good  standard  standard      yes   \n",
      "\n",
      "   district  \n",
      "0       916  \n",
      "1       813  \n",
      "2       611  \n",
      "3      2025  \n",
      "4       561  \n"
     ]
    }
   ],
   "source": [
    "##Fitting a linear regression model using statsmodels to munich rent data\n",
    "import pandas as pd\n",
    "munichrent = pd.read_csv(\"munichrent.csv\")\n",
    "print(munichrent.head())"
   ]
  },
  {
   "cell_type": "code",
   "execution_count": 43,
   "id": "569edbf1",
   "metadata": {},
   "outputs": [
    {
     "name": "stderr",
     "output_type": "stream",
     "text": [
      "C:\\ProgramData\\Anaconda3\\lib\\site-packages\\seaborn\\_decorators.py:36: FutureWarning: Pass the following variables as keyword args: x, y. From version 0.12, the only valid positional argument will be `data`, and passing other arguments without an explicit keyword will result in an error or misinterpretation.\n",
      "  warnings.warn(\n"
     ]
    },
    {
     "data": {
      "text/plain": [
       "<function matplotlib.pyplot.show(close=None, block=None)>"
      ]
     },
     "execution_count": 43,
     "metadata": {},
     "output_type": "execute_result"
    },
    {
     "data": {
      "image/png": "[encoded data removed]",
      "text/plain": [
       "<Figure size 360x360 with 1 Axes>"
      ]
     },
     "metadata": {
      "needs_background": "light"
     },
     "output_type": "display_data"
    }
   ],
   "source": [
    "##Plot the rent againts the area of munichrent \n",
    "import seaborn as sns\n",
    "import matplotlib.pyplot as plt\n",
    "sns.relplot(\"area\", \"rent\", data=munichrent)\n",
    "plt.show"
   ]
  },
  {
   "cell_type": "code",
   "execution_count": 44,
   "id": "fb4982b1",
   "metadata": {},
   "outputs": [
    {
     "name": "stderr",
     "output_type": "stream",
     "text": [
      "C:\\ProgramData\\Anaconda3\\lib\\site-packages\\seaborn\\_decorators.py:36: FutureWarning: Pass the following variables as keyword args: x, y. From version 0.12, the only valid positional argument will be `data`, and passing other arguments without an explicit keyword will result in an error or misinterpretation.\n",
      "  warnings.warn(\n"
     ]
    },
    {
     "data": {
      "image/png": "[encoded data removed]",
      "text/plain": [
       "<Figure size 360x360 with 1 Axes>"
      ]
     },
     "metadata": {
      "needs_background": "light"
     },
     "output_type": "display_data"
    }
   ],
   "source": [
    "##Model the data on a log scale\n",
    "sns.relplot(\"area\", \"rent\", data=munichrent)\n",
    "plt.xscale(\"log\")\n",
    "plt.yscale(\"log\")\n",
    "plt.show()"
   ]
  },
  {
   "cell_type": "code",
   "execution_count": 45,
   "id": "554ff917",
   "metadata": {},
   "outputs": [],
   "source": [
    "##In order to fit a regression model of the form log(rent) = B0 + B1 log(area) + Ei\n",
    "#We need to construct the matrix X\n",
    "import numpy as np\n",
    "n = munichrent.shape[0]\n",
    "X = np.stack((np.ones(n), np.log(munichrent[\"area\"])), axis=1)\n",
    "y = np.log(munichrent[\"rent\"])"
   ]
  },
  {
   "cell_type": "code",
   "execution_count": 46,
   "id": "5777f0c1",
   "metadata": {},
   "outputs": [
    {
     "name": "stdout",
     "output_type": "stream",
     "text": [
      "                            OLS Regression Results                            \n",
      "==============================================================================\n",
      "Dep. Variable:                   rent   R-squared:                       0.305\n",
      "Model:                            OLS   Adj. R-squared:                  0.304\n",
      "Method:                 Least Squares   F-statistic:                     1349.\n",
      "Date:                Mon, 27 Dec 2021   Prob (F-statistic):          3.03e-245\n",
      "Time:                        12:48:06   Log-Likelihood:                -1194.3\n",
      "No. Observations:                3082   AIC:                             2393.\n",
      "Df Residuals:                    3080   BIC:                             2405.\n",
      "Df Model:                           1                                         \n",
      "Covariance Type:            nonrobust                                         \n",
      "==============================================================================\n",
      "                 coef    std err          t      P>|t|      [0.025      0.975]\n",
      "------------------------------------------------------------------------------\n",
      "const          3.3722      0.073     46.204      0.000       3.229       3.515\n",
      "x1             0.6440      0.018     36.728      0.000       0.610       0.678\n",
      "==============================================================================\n",
      "Omnibus:                      470.415   Durbin-Watson:                   1.636\n",
      "Prob(Omnibus):                  0.000   Jarque-Bera (JB):              991.637\n",
      "Skew:                          -0.907   Prob(JB):                    4.67e-216\n",
      "Kurtosis:                       5.105   Cond. No.                         50.0\n",
      "==============================================================================\n",
      "\n",
      "Notes:\n",
      "[1] Standard Errors assume that the covariance matrix of the errors is correctly specified.\n"
     ]
    }
   ],
   "source": [
    "#We can now fit the linear regression model\n",
    "import statsmodels.api as sm \n",
    "model = sm.OLS(y, X)\n",
    "results = model.fit()\n",
    "print(results.summary())"
   ]
  },
  {
   "cell_type": "code",
   "execution_count": 49,
   "id": "dd8f04eb",
   "metadata": {},
   "outputs": [
    {
     "name": "stdout",
     "output_type": "stream",
     "text": [
      "                            OLS Regression Results                            \n",
      "==============================================================================\n",
      "Dep. Variable:           np.log(rent)   R-squared:                       0.305\n",
      "Model:                            OLS   Adj. R-squared:                  0.304\n",
      "Method:                 Least Squares   F-statistic:                     1349.\n",
      "Date:                Mon, 27 Dec 2021   Prob (F-statistic):          3.03e-245\n",
      "Time:                        12:51:36   Log-Likelihood:                -1194.3\n",
      "No. Observations:                3082   AIC:                             2393.\n",
      "Df Residuals:                    3080   BIC:                             2405.\n",
      "Df Model:                           1                                         \n",
      "Covariance Type:            nonrobust                                         \n",
      "================================================================================\n",
      "                   coef    std err          t      P>|t|      [0.025      0.975]\n",
      "--------------------------------------------------------------------------------\n",
      "Intercept        3.3722      0.073     46.204      0.000       3.229       3.515\n",
      "np.log(area)     0.6440      0.018     36.728      0.000       0.610       0.678\n",
      "==============================================================================\n",
      "Omnibus:                      470.415   Durbin-Watson:                   1.636\n",
      "Prob(Omnibus):                  0.000   Jarque-Bera (JB):              991.637\n",
      "Skew:                          -0.907   Prob(JB):                    4.67e-216\n",
      "Kurtosis:                       5.105   Cond. No.                         50.0\n",
      "==============================================================================\n",
      "\n",
      "Notes:\n",
      "[1] Standard Errors assume that the covariance matrix of the errors is correctly specified.\n"
     ]
    }
   ],
   "source": [
    "##You can fit the example above using simpler code\n",
    "import statsmodels.formula.api as smf\n",
    "import numpy as np\n",
    "model = smf.ols(\"np.log(rent) ~ np.log(area)\", data=munichrent)\n",
    "results = model.fit()\n",
    "print(results.summary())"
   ]
  },
  {
   "cell_type": "code",
   "execution_count": 50,
   "id": "e17ff540",
   "metadata": {},
   "outputs": [
    {
     "name": "stdout",
     "output_type": "stream",
     "text": [
      "                            OLS Regression Results                            \n",
      "==============================================================================\n",
      "Dep. Variable:                rentsqm   R-squared:                       0.307\n",
      "Model:                            OLS   Adj. R-squared:                  0.305\n",
      "Method:                 Least Squares   F-statistic:                     194.1\n",
      "Date:                Mon, 27 Dec 2021   Prob (F-statistic):          6.97e-239\n",
      "Time:                        12:53:12   Log-Likelihood:                -6552.7\n",
      "No. Observations:                3082   AIC:                         1.312e+04\n",
      "Df Residuals:                    3074   BIC:                         1.317e+04\n",
      "Df Model:                           7                                         \n",
      "Covariance Type:            nonrobust                                         \n",
      "=======================================================================================\n",
      "                          coef    std err          t      P>|t|      [0.025      0.975]\n",
      "---------------------------------------------------------------------------------------\n",
      "Intercept             -43.5758      3.647    -11.949      0.000     -50.726     -36.425\n",
      "location[T.good]        0.7771      0.077     10.110      0.000       0.626       0.928\n",
      "location[T.prime]       1.7251      0.236      7.308      0.000       1.262       2.188\n",
      "kitchen[T.standard]    -1.1369      0.183     -6.210      0.000      -1.496      -0.778\n",
      "bath[T.standard]       -0.7628      0.158     -4.841      0.000      -1.072      -0.454\n",
      "cheating[T.yes]         1.7653      0.129     13.677      0.000       1.512       2.018\n",
      "area                   -0.0323      0.002    -19.618      0.000      -0.036      -0.029\n",
      "yearc                   0.0270      0.002     14.606      0.000       0.023       0.031\n",
      "==============================================================================\n",
      "Omnibus:                       34.330   Durbin-Watson:                   1.775\n",
      "Prob(Omnibus):                  0.000   Jarque-Bera (JB):               36.391\n",
      "Skew:                           0.232   Prob(JB):                     1.25e-08\n",
      "Kurtosis:                       3.262   Cond. No.                     1.95e+05\n",
      "==============================================================================\n",
      "\n",
      "Notes:\n",
      "[1] Standard Errors assume that the covariance matrix of the errors is correctly specified.\n",
      "[2] The condition number is large, 1.95e+05. This might indicate that there are\n",
      "strong multicollinearity or other numerical problems.\n"
     ]
    }
   ],
   "source": [
    "##If you want to include other factors, you can use the code below \n",
    "model = smf.ols(\"rentsqm ~ location + area + kitchen + bath + cheating + yearc\", \n",
    "               data = munichrent)\n",
    "results = model.fit()\n",
    "print(results.summary())"
   ]
  },
  {
   "cell_type": "code",
   "execution_count": 51,
   "id": "96a8ed1d",
   "metadata": {},
   "outputs": [],
   "source": [
    "##Predictions \n",
    "##We can predict the rent per square meter for two hypothetical apartments using the previous model\n",
    "##First define the covariates for the two new observations as a data frame \n",
    "munichrent_new = pd.DataFrame({\"area\": [90, 75],\n",
    "                              \"yearc\": [1911, 1973], \n",
    "                              \"location\": [\"good\", \"good\"],\n",
    "                              \"bath\": [\"standard\", \"standard\"], \n",
    "                              \"kitchen\": [\"standard\", \"standard\"],\n",
    "                              \"cheating\": [\"no\", \"yes\"]})"
   ]
  },
  {
   "cell_type": "code",
   "execution_count": 52,
   "id": "251f9149",
   "metadata": {},
   "outputs": [
    {
     "name": "stdout",
     "output_type": "stream",
     "text": [
      "0    3.909754\n",
      "1    7.831401\n",
      "dtype: float64\n"
     ]
    }
   ],
   "source": [
    "##We can then call the predict method \n",
    "print(results.predict(munichrent_new))"
   ]
  },
  {
   "cell_type": "code",
   "execution_count": 53,
   "id": "13716c35",
   "metadata": {},
   "outputs": [
    {
     "name": "stdout",
     "output_type": "stream",
     "text": [
      "<F test: F=array([[69.05792665]]), p=4.6000439582341616e-30, df_denom=3.07e+03, df_num=2>\n"
     ]
    }
   ],
   "source": [
    "##Suppose we want to test the hypothesis that location has no effect on rent. We will need an F-test\n",
    "print(results.f_test(\"location[T.good] = 0, location[T.prime]=0\"))"
   ]
  },
  {
   "cell_type": "code",
   "execution_count": 55,
   "id": "d0e24e72",
   "metadata": {},
   "outputs": [
    {
     "name": "stdout",
     "output_type": "stream",
     "text": [
      "(69.05792664578652, 4.60004395823573e-30, 2.0)\n"
     ]
    }
   ],
   "source": [
    "##We can compare the model from the previous example to the one with location removed using\n",
    "model2 = smf.ols(\"rentsqm ~ area + kitchen + bath + cheating + yearc\",\n",
    "data=munichrent)\n",
    "result2 = model2.fit()\n",
    "print(results.compare_f_test(result2))\n"
   ]
  },
  {
   "cell_type": "code",
   "execution_count": 56,
   "id": "77930157",
   "metadata": {},
   "outputs": [
    {
     "name": "stdout",
     "output_type": "stream",
     "text": [
      "                 sum_sq      df           F        PR(>F)\n",
      "Intercept    588.914683     1.0  142.779787  3.355007e-32\n",
      "location     569.677653     2.0   69.057927  4.600044e-30\n",
      "kitchen      159.044272     1.0   38.559588  6.024370e-10\n",
      "bath          96.678369     1.0   23.439247  1.352865e-06\n",
      "cheating     771.554223     1.0  187.059944  2.212288e-41\n",
      "area        1587.473497     1.0  384.876000  7.789203e-81\n",
      "yearc        879.962175     1.0  213.342977  9.119495e-47\n",
      "Residual   12679.131795  3074.0         NaN           NaN\n"
     ]
    }
   ],
   "source": [
    "##We can carry out the partial F-tests for the model from example 7 using\n",
    "from statsmodels.stats.anova import anova_lm\n",
    "print(anova_lm(results, typ=\"III\"))"
   ]
  },
  {
   "cell_type": "code",
   "execution_count": 57,
   "id": "aac91122",
   "metadata": {},
   "outputs": [
    {
     "name": "stdout",
     "output_type": "stream",
     "text": [
      "   survived                                             name     sex      age  \\\n",
      "0         1                    Allen, Miss. Elisabeth Walton  female  29.0000   \n",
      "1         1                   Allison, Master. Hudson Trevor    male   0.9167   \n",
      "2         0                     Allison, Miss. Helen Loraine  female   2.0000   \n",
      "3         0             Allison, Mr. Hudson Joshua Creighton    male  30.0000   \n",
      "4         0  Allison, Mrs. Hudson J C (Bessie Waldo Daniels)  female  25.0000   \n",
      "\n",
      "       fare pclass  \n",
      "0  211.3375  first  \n",
      "1  151.5500  first  \n",
      "2  151.5500  first  \n",
      "3  151.5500  first  \n",
      "4  151.5500  first  \n"
     ]
    }
   ],
   "source": [
    "##Generalised linear model \n",
    "print(titanic.head())"
   ]
  },
  {
   "cell_type": "code",
   "execution_count": 58,
   "id": "0d780eba",
   "metadata": {},
   "outputs": [
    {
     "name": "stdout",
     "output_type": "stream",
     "text": [
      "                 Generalized Linear Model Regression Results                  \n",
      "==============================================================================\n",
      "Dep. Variable:               survived   No. Observations:                 1045\n",
      "Model:                            GLM   Df Residuals:                     1039\n",
      "Model Family:                Binomial   Df Model:                            5\n",
      "Link Function:                  logit   Scale:                          1.0000\n",
      "Method:                          IRLS   Log-Likelihood:                -491.17\n",
      "Date:                Mon, 27 Dec 2021   Deviance:                       982.35\n",
      "Time:                        13:45:22   Pearson chi2:                 1.08e+03\n",
      "No. Iterations:                     5                                         \n",
      "Covariance Type:            nonrobust                                         \n",
      "====================================================================================\n",
      "                       coef    std err          z      P>|z|      [0.025      0.975]\n",
      "------------------------------------------------------------------------------------\n",
      "Intercept            3.4840      0.376      9.267      0.000       2.747       4.221\n",
      "sex[T.male]         -2.4938      0.167    -14.933      0.000      -2.821      -2.166\n",
      "pclass[T.second]    -1.2570      0.255     -4.926      0.000      -1.757      -0.757\n",
      "pclass[T.third]     -2.2614      0.265     -8.518      0.000      -2.782      -1.741\n",
      "age                 -0.0342      0.006     -5.381      0.000      -0.047      -0.022\n",
      "fare                 0.0003      0.002      0.191      0.849      -0.003       0.004\n",
      "====================================================================================\n"
     ]
    }
   ],
   "source": [
    "##Model the joint effect of the information available on the survival of passengers \n",
    "import statsmodels.api as sm\n",
    "import statsmodels.formula.api as smf\n",
    "model = smf.glm(\"survived ~ sex + age + fare + pclass\", data=titanic,\n",
    "family=sm.families.Binomial())\n",
    "result = model.fit()\n",
    "print(result.summary())"
   ]
  },
  {
   "cell_type": "code",
   "execution_count": 59,
   "id": "5ba449d8",
   "metadata": {},
   "outputs": [
    {
     "name": "stdout",
     "output_type": "stream",
     "text": [
      "                 Generalized Linear Model Regression Results                  \n",
      "==============================================================================\n",
      "Dep. Variable:               survived   No. Observations:                 1045\n",
      "Model:                            GLM   Df Residuals:                     1043\n",
      "Model Family:                Binomial   Df Model:                            1\n",
      "Link Function:                  logit   Scale:                          1.0000\n",
      "Method:                          IRLS   Log-Likelihood:                -705.26\n",
      "Date:                Mon, 27 Dec 2021   Deviance:                       1410.5\n",
      "Time:                        13:46:22   Pearson chi2:                 1.05e+03\n",
      "No. Iterations:                     4                                         \n",
      "Covariance Type:            nonrobust                                         \n",
      "==============================================================================\n",
      "                 coef    std err          z      P>|z|      [0.025      0.975]\n",
      "------------------------------------------------------------------------------\n",
      "Intercept     -0.1414      0.145     -0.976      0.329      -0.425       0.142\n",
      "age           -0.0077      0.004     -1.742      0.082      -0.016       0.001\n",
      "==============================================================================\n"
     ]
    }
   ],
   "source": [
    "##If we were to only use age as a covariate, then it would not show up as significant in logistic \n",
    "#regression either.\n",
    "model_age = smf.glm(\"survived ~ age\", data=titanic,\n",
    "family=sm.families.Binomial())\n",
    "result_age = model_age.fit()\n",
    "print(result_age.summary())"
   ]
  },
  {
   "cell_type": "code",
   "execution_count": null,
   "id": "952831b8",
   "metadata": {},
   "outputs": [
    {
     "name": "stdout",
     "output_type": "stream",
     "text": [
      "Waiting to confirm page change...\n"
     ]
    }
   ],
   "source": [
    "##Use munich rent data and a package to run R code \n",
    "import pandas as pd\n",
    "from rpy2.robjects import r\n",
    "from rpy2.robjects import globalenv\n",
    "from rpy2.robjects import pandas2ri\n",
    "pandas2ri.activate() # Activate automatic conversion to/from Pandas\n",
    "munichrent = pd.read_csv(\"munichrent.csv\")\n",
    "globalenv[\"r_mr\"] = munichrent # Make munichrent available in R\n",
    "preds = r(\"\"\"\n",
    "library(mgcv)\n",
    "model <- gam(rentsqm ~ s(area) + s(yearc) + location + bath + kitchen + cheating,\n",
    "data=r_mr)\n",
    "plot(model)\n",
    "predict(model)\n",
    "\"\"\")\n",
    "print(preds[:4])"
   ]
  },
  {
   "cell_type": "code",
   "execution_count": null,
   "id": "669a5491",
   "metadata": {},
   "outputs": [],
   "source": [
    "##Rather than submitting one long string of R commands, \n",
    "#you could use importr and call R functions from Python\n",
    "from rpy2.robjects import globalenv\n",
    "from rpy2.robjects.packages import importr\n",
    "from rpy2.robjects import pandas2ri\n",
    "pandas2ri.activate()\n",
    "graphics = importr(\"graphics\") # Load R package graphics (for plots)\n",
    "stats = importr(\"stats\") # Load R package stats (for formula and predict)\n",
    "mgcv = importr(\"mgcv\") # Load R package mgcv (for gam)\n",
    "f = stats.formula(\"rentsqm ~ s(area)+s(yearc)+location+bath+kitchen+cheating\")\n",
    "model = mgcv.gam(f, data=munichrent)\n",
    "graphics.plot(model)\n",
    "preds = stats.predict(model)\n",
    "print(preds[:4])"
   ]
  },
  {
   "cell_type": "code",
   "execution_count": 7,
   "id": "dbf139c7",
   "metadata": {},
   "outputs": [
    {
     "data": {
      "image/png": "[encoded data removed]",
      "text/plain": [
       "<Figure size 432x288 with 1 Axes>"
      ]
     },
     "metadata": {
      "needs_background": "light"
     },
     "output_type": "display_data"
    },
    {
     "name": "stdout",
     "output_type": "stream",
     "text": [
      "                            OLS Regression Results                            \n",
      "==============================================================================\n",
      "Dep. Variable:                      y   R-squared:                       0.005\n",
      "Model:                            OLS   Adj. R-squared:                 -0.005\n",
      "Method:                 Least Squares   F-statistic:                    0.5003\n",
      "Date:                Mon, 27 Dec 2021   Prob (F-statistic):              0.481\n",
      "Time:                        15:01:20   Log-Likelihood:                -34.433\n",
      "No. Observations:                 100   AIC:                             72.87\n",
      "Df Residuals:                      98   BIC:                             78.08\n",
      "Df Model:                           1                                         \n",
      "Covariance Type:            nonrobust                                         \n",
      "==============================================================================\n",
      "                 coef    std err          t      P>|t|      [0.025      0.975]\n",
      "------------------------------------------------------------------------------\n",
      "const          0.3847      0.035     11.151      0.000       0.316       0.453\n",
      "x1             0.0381      0.054      0.707      0.481      -0.069       0.145\n",
      "==============================================================================\n",
      "Omnibus:                       24.615   Durbin-Watson:                   1.761\n",
      "Prob(Omnibus):                  0.000   Jarque-Bera (JB):                6.229\n",
      "Skew:                           0.244   Prob(JB):                       0.0444\n",
      "Kurtosis:                       1.879   Cond. No.                         1.56\n",
      "==============================================================================\n",
      "\n",
      "Notes:\n",
      "[1] Standard Errors assume that the covariance matrix of the errors is correctly specified.\n"
     ]
    }
   ],
   "source": [
    "##Section 2 - various Python tasks\n",
    "import numpy as np\n",
    "import matplotlib.pyplot as plt\n",
    "import statsmodels.api as sm\n",
    "import pandas as pd\n",
    "n = 100\n",
    "x = -1 + 2 * np.random.random(n)\n",
    "epsilon = np.random.normal(0, 0.1, n)\n",
    "\n",
    "y = x**2 + epsilon\n",
    "plt.plot(x, y, \".\")\n",
    "plt.show()\n",
    "##You can also fit a linear model using \n",
    "lX = np.stack((np.ones(n), x), axis=1)\n",
    "lmodel = sm.OLS(y, lX)\n",
    "lresult = lmodel.fit()\n",
    "print(lresult.summary())"
   ]
  },
  {
   "cell_type": "code",
   "execution_count": 9,
   "id": "687dc6d8",
   "metadata": {},
   "outputs": [
    {
     "name": "stdout",
     "output_type": "stream",
     "text": [
      "                            OLS Regression Results                            \n",
      "==============================================================================\n",
      "Dep. Variable:                      y   R-squared:                       0.915\n",
      "Model:                            OLS   Adj. R-squared:                  0.913\n",
      "Method:                 Least Squares   F-statistic:                     520.8\n",
      "Date:                Mon, 27 Dec 2021   Prob (F-statistic):           1.33e-52\n",
      "Time:                        15:02:26   Log-Likelihood:                 88.455\n",
      "No. Observations:                 100   AIC:                            -170.9\n",
      "Df Residuals:                      97   BIC:                            -163.1\n",
      "Df Model:                           2                                         \n",
      "Covariance Type:            nonrobust                                         \n",
      "==============================================================================\n",
      "                 coef    std err          t      P>|t|      [0.025      0.975]\n",
      "------------------------------------------------------------------------------\n",
      "const         -0.0357      0.017     -2.156      0.034      -0.068      -0.003\n",
      "x1             0.0333      0.016      2.101      0.038       0.002       0.065\n",
      "x2             1.0242      0.032     32.185      0.000       0.961       1.087\n",
      "==============================================================================\n",
      "Omnibus:                        1.075   Durbin-Watson:                   2.195\n",
      "Prob(Omnibus):                  0.584   Jarque-Bera (JB):                1.167\n",
      "Skew:                          -0.198   Prob(JB):                        0.558\n",
      "Kurtosis:                       2.649   Cond. No.                         3.72\n",
      "==============================================================================\n",
      "\n",
      "Notes:\n",
      "[1] Standard Errors assume that the covariance matrix of the errors is correctly specified.\n"
     ]
    }
   ],
   "source": [
    "#We can fit a quadratic regression model using the below\n",
    "# Quadratic regression model\n",
    "qX = np.stack((np.ones(n), x, x**2), axis=1)\n",
    "qmodel = sm.OLS(y, qX)\n",
    "qresult = qmodel.fit()\n",
    "print(qresult.summary())"
   ]
  },
  {
   "cell_type": "code",
   "execution_count": 8,
   "id": "9c905582",
   "metadata": {},
   "outputs": [
    {
     "data": {
      "text/html": [
       "<div>\n",
       "<style scoped>\n",
       "    .dataframe tbody tr th:only-of-type {\n",
       "        vertical-align: middle;\n",
       "    }\n",
       "\n",
       "    .dataframe tbody tr th {\n",
       "        vertical-align: top;\n",
       "    }\n",
       "\n",
       "    .dataframe thead th {\n",
       "        text-align: right;\n",
       "    }\n",
       "</style>\n",
       "<table border=\"1\" class=\"dataframe\">\n",
       "  <thead>\n",
       "    <tr style=\"text-align: right;\">\n",
       "      <th></th>\n",
       "      <th>Deaths</th>\n",
       "      <th>NicholasCage</th>\n",
       "    </tr>\n",
       "    <tr>\n",
       "      <th>Year</th>\n",
       "      <th></th>\n",
       "      <th></th>\n",
       "    </tr>\n",
       "  </thead>\n",
       "  <tbody>\n",
       "    <tr>\n",
       "      <th>1999</th>\n",
       "      <td>109</td>\n",
       "      <td>2</td>\n",
       "    </tr>\n",
       "    <tr>\n",
       "      <th>2000</th>\n",
       "      <td>102</td>\n",
       "      <td>2</td>\n",
       "    </tr>\n",
       "    <tr>\n",
       "      <th>2001</th>\n",
       "      <td>102</td>\n",
       "      <td>2</td>\n",
       "    </tr>\n",
       "    <tr>\n",
       "      <th>2002</th>\n",
       "      <td>98</td>\n",
       "      <td>3</td>\n",
       "    </tr>\n",
       "    <tr>\n",
       "      <th>2003</th>\n",
       "      <td>85</td>\n",
       "      <td>1</td>\n",
       "    </tr>\n",
       "  </tbody>\n",
       "</table>\n",
       "</div>"
      ],
      "text/plain": [
       "      Deaths  NicholasCage\n",
       "Year                      \n",
       "1999     109             2\n",
       "2000     102             2\n",
       "2001     102             2\n",
       "2002      98             3\n",
       "2003      85             1"
      ]
     },
     "execution_count": 8,
     "metadata": {},
     "output_type": "execute_result"
    }
   ],
   "source": [
    "##Create a dataframe using the below python code\n",
    "data = pd.DataFrame({\"Deaths\": [109,102,102,98,85,95, 96, 98,123, 94,102],\n",
    "                    \"NicholasCage\": [2,2,2,3,1,1,2,3,4,1,4]},\n",
    "                   index = range(1999,2010))\n",
    "data.index.name = \"Year\"\n",
    "data.head()"
   ]
  },
  {
   "cell_type": "code",
   "execution_count": 10,
   "id": "3cfb227a",
   "metadata": {},
   "outputs": [],
   "source": [
    "import seaborn as sns\n",
    "import matplotlib.pyplot as plt \n",
    "import numpy as np\n",
    "import statsmodels.api as sm"
   ]
  },
  {
   "cell_type": "code",
   "execution_count": 11,
   "id": "fd2c6142",
   "metadata": {},
   "outputs": [
    {
     "name": "stderr",
     "output_type": "stream",
     "text": [
      "C:\\ProgramData\\Anaconda3\\lib\\site-packages\\seaborn\\_decorators.py:36: FutureWarning: Pass the following variables as keyword args: x, y. From version 0.12, the only valid positional argument will be `data`, and passing other arguments without an explicit keyword will result in an error or misinterpretation.\n",
      "  warnings.warn(\n"
     ]
    },
    {
     "data": {
      "image/png": "[encoded data removed]",
      "text/plain": [
       "<Figure size 360x360 with 1 Axes>"
      ]
     },
     "metadata": {
      "needs_background": "light"
     },
     "output_type": "display_data"
    }
   ],
   "source": [
    "#Plot the above data\n",
    "sns.relplot(\"NicholasCage\", \"Deaths\", data=data)\n",
    "plt.show()"
   ]
  },
  {
   "cell_type": "code",
   "execution_count": 15,
   "id": "c4d16902",
   "metadata": {},
   "outputs": [
    {
     "data": {
      "image/png": "[encoded data removed]",
      "text/plain": [
       "<Figure size 432x288 with 2 Axes>"
      ]
     },
     "metadata": {
      "needs_background": "light"
     },
     "output_type": "display_data"
    }
   ],
   "source": [
    "#Create a time series plot showing Deaths vs Nicholas Cage movies that year \n",
    "data[\"Deaths\"].plot.line(color=\"red\")\n",
    "plt.legend(loc=\"upper left\")\n",
    "plt.twinx()\n",
    "data[\"NicholasCage\"].plot.line(color=\"blue\")\n",
    "plt.legend(loc=\"lower right\")\n",
    "plt.show()"
   ]
  },
  {
   "cell_type": "code",
   "execution_count": 17,
   "id": "83131332",
   "metadata": {},
   "outputs": [
    {
     "name": "stdout",
     "output_type": "stream",
     "text": [
      "                            OLS Regression Results                            \n",
      "==============================================================================\n",
      "Dep. Variable:                 Deaths   R-squared:                       0.444\n",
      "Model:                            OLS   Adj. R-squared:                  0.382\n",
      "Method:                 Least Squares   F-statistic:                     7.174\n",
      "Date:                Mon, 27 Dec 2021   Prob (F-statistic):             0.0253\n",
      "Time:                        15:08:15   Log-Likelihood:                -36.793\n",
      "No. Observations:                  11   AIC:                             77.59\n",
      "Df Residuals:                       9   BIC:                             78.38\n",
      "Df Model:                           1                                         \n",
      "Covariance Type:            nonrobust                                         \n",
      "================================================================================\n",
      "                   coef    std err          t      P>|t|      [0.025      0.975]\n",
      "--------------------------------------------------------------------------------\n",
      "Intercept       87.1343      5.443     16.009      0.000      74.822      99.447\n",
      "NicholasCage     5.8209      2.173      2.678      0.025       0.905      10.737\n",
      "==============================================================================\n",
      "Omnibus:                        0.887   Durbin-Watson:                   1.691\n",
      "Prob(Omnibus):                  0.642   Jarque-Bera (JB):                0.747\n",
      "Skew:                           0.406   Prob(JB):                        0.688\n",
      "Kurtosis:                       2.014   Cond. No.                         6.76\n",
      "==============================================================================\n",
      "\n",
      "Notes:\n",
      "[1] Standard Errors assume that the covariance matrix of the errors is correctly specified.\n"
     ]
    },
    {
     "name": "stderr",
     "output_type": "stream",
     "text": [
      "C:\\ProgramData\\Anaconda3\\lib\\site-packages\\scipy\\stats\\stats.py:1541: UserWarning: kurtosistest only valid for n>=20 ... continuing anyway, n=11\n",
      "  warnings.warn(\"kurtosistest only valid for n>=20 ... continuing \"\n"
     ]
    }
   ],
   "source": [
    "#You can also fit a linear regression model for the data using \n",
    "import statsmodels.formula.api as smf\n",
    "result = smf.ols(formula=\"Deaths ~ NicholasCage\", data=data).fit()\n",
    "print(result.summary())"
   ]
  },
  {
   "cell_type": "code",
   "execution_count": 18,
   "id": "487f7605",
   "metadata": {},
   "outputs": [
    {
     "name": "stdout",
     "output_type": "stream",
     "text": [
      "                             Test for Constraints                             \n",
      "==============================================================================\n",
      "                 coef    std err          t      P>|t|      [0.025      0.975]\n",
      "------------------------------------------------------------------------------\n",
      "c0             5.8209      2.173      2.678      0.025       0.905      10.737\n",
      "==============================================================================\n"
     ]
    }
   ],
   "source": [
    "#We can then use a t-test or f-test for the test (they are equivalent and give the same p-value as\n",
    "#they refer to only one regression coefficient)\n",
    "print(result.t_test(\"NicholasCage = 0\"))"
   ]
  },
  {
   "cell_type": "code",
   "execution_count": null,
   "id": "be5af10b",
   "metadata": {},
   "outputs": [],
   "source": []
  }
 ],
 "metadata": {
  "kernelspec": {
   "display_name": "Python 3 (ipykernel)",
   "language": "python",
   "name": "python3"
  },
  "language_info": {
   "codemirror_mode": {
    "name": "ipython",
    "version": 3
   },
   "file_extension": ".py",
   "mimetype": "text/x-python",
   "name": "python",
   "nbconvert_exporter": "python",
   "pygments_lexer": "ipython3",
   "version": "3.9.7"
  }
 },
 "nbformat": 4,
 "nbformat_minor": 5
}
